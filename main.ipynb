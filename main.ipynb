{
 "cells": [
  {
   "cell_type": "code",
   "execution_count": 4,
   "id": "b39ac62f-9bd6-4be0-852b-6f051f300075",
   "metadata": {
    "tags": []
   },
   "outputs": [],
   "source": [
    "import pandas as pd\n",
    "import numpy as np\n",
    "import matplotlib.pyplot as plt\n",
    "import os , shutil\n",
    "import cv2\n",
    "import matplotlib.image  as mpimg\n",
    "import seaborn as sns\n",
    "plt.style.use('ggplot')"
   ]
  },
  {
   "cell_type": "code",
   "execution_count": 9,
   "id": "04b12f75-a884-4a2c-bd65-699e478a6058",
   "metadata": {
    "tags": []
   },
   "outputs": [],
   "source": [
    "folder = 'brain_tumor_dataset/yes/'\n",
    "count = 1\n",
    "\n",
    "for filename in os.listdir(folder):\n",
    "    source = folder + filename\n",
    "    destination = folder + \"Y_\" + str(count)+\".jpg\"\n",
    "    os.rename(source , destination)\n",
    "    count+=1"
   ]
  },
  {
   "cell_type": "code",
   "execution_count": 16,
   "id": "78bb780e-d329-4526-988c-0d1ce946e7f8",
   "metadata": {
    "tags": []
   },
   "outputs": [],
   "source": [
    "folder = 'brain_tumor_dataset/no/'\n",
    "count = 1\n",
    "\n",
    "for filename in os.listdir(folder):\n",
    "    source = folder + filename\n",
    "    destination = folder + \"N_\" + str(count)+\".jpg\"\n",
    "    os.rename(source , destination)\n",
    "    count+=1"
   ]
  },
  {
   "cell_type": "code",
   "execution_count": 17,
   "id": "7b8f2f09-6652-4847-af04-93f7c6e365ae",
   "metadata": {},
   "outputs": [],
   "source": [
    "# EDA"
   ]
  },
  {
   "cell_type": "code",
   "execution_count": 18,
   "id": "262d1b92",
   "metadata": {},
   "outputs": [
    {
     "name": "stdout",
     "output_type": "stream",
     "text": [
      "155\n",
      "98\n"
     ]
    }
   ],
   "source": [
    "# yes\n",
    "list_Yes = os.listdir(\"brain_tumor_dataset/yes/\")\n",
    "length_yes = len(list_Yes);\n",
    "print(length_yes)\n",
    "\n",
    "# no\n",
    "list_No = os.listdir(\"brain_tumor_dataset/no/\")\n",
    "length_no = len(list_No);\n",
    "print(length_no)"
   ]
  },
  {
   "cell_type": "code",
   "execution_count": 19,
   "id": "4a1506f6",
   "metadata": {},
   "outputs": [],
   "source": [
    "# plot"
   ]
  },
  {
   "cell_type": "code",
   "execution_count": 24,
   "id": "fabdbcf8",
   "metadata": {},
   "outputs": [
    {
     "data": {
      "image/png": "[encoded data removed]",
      "text/plain": [
       "<Figure size 500x700 with 1 Axes>"
      ]
     },
     "metadata": {},
     "output_type": "display_data"
    }
   ],
   "source": [
    "data = {'tumors' : length_yes , 'non_tumors' : length_no}\n",
    "\n",
    "x = data.keys()\n",
    "y = data.values()\n",
    "\n",
    "fig = plt.figure(figsize=(5,7))\n",
    "plt.bar(x , y  , color = \"red\")\n",
    "\n",
    "plt.xlabel(\"Data\")\n",
    "plt.ylabel(\"No of Brain MRI Images\")\n",
    "\n",
    "plt.title(\"Count to Brain Tumor Images\")\n",
    "plt.show()"
   ]
  },
  {
   "cell_type": "code",
   "execution_count": 25,
   "id": "9b4205d9",
   "metadata": {},
   "outputs": [],
   "source": [
    "# Data Argumentation\n",
    "# yes = 155 , no = 98\n",
    "# its not balanced\n",
    "\n",
    "# so we can just generate some more images generator"
   ]
  },
  {
   "cell_type": "code",
   "execution_count": 28,
   "id": "fb1a278e",
   "metadata": {},
   "outputs": [],
   "source": [
    "import tensorflow as tf \n",
    "from tensorflow.keras.preprocessing.image import ImageDataGenerator\n",
    "from tensorflow.keras.models import Model\n",
    "from tensorflow.keras.layers import Flatten , Dense ,Dropout\n",
    "from tensorflow.keras.applications.vgg19 import VGG19\n",
    "from tensorflow.keras.optimizers import SGD , Adam\n",
    "from tensorflow.keras.callbacks import ModelCheckpoint , EarlyStopping , ReduceLROnPlateau"
   ]
  },
  {
   "cell_type": "code",
   "execution_count": 29,
   "id": "92ee8350",
   "metadata": {},
   "outputs": [],
   "source": [
    "def argumented_data(file_dir , n_genetated_samples, save_to_dir):\n",
    "    data_gen = ImageDataGenerator(rotation_range=10,\n",
    "                       width_shift_range=0.1,\n",
    "                       shear_range=0.1,\n",
    "                       brightness_range=(0.3,1.0),\n",
    "                       horizontal_flip= True,\n",
    "                       vertical_flip=True,\n",
    "                       fill_mode='nearest')\n",
    "    for filename in os.listdir(file_dir):\n",
    "        image = cv2.imread(file_dir+ '/' + filename)\n",
    "        image = image.reshape((1,) + image.shape)\n",
    "        save_prefix = 'aug_' + filename[:-4]\n",
    "        i = 0\n",
    "        for batch in data_gen.flow(x = image , batch_size = 1 , save_to_dir = save_to_dir , save_prefix = save_prefix , save_format = \"jpg\"):\n",
    "            i+=1\n",
    "            if i>n_genetated_samples:\n",
    "                break"
   ]
  },
  {
   "cell_type": "code",
   "execution_count": null,
   "id": "07246af4",
   "metadata": {},
   "outputs": [],
   "source": []
  }
 ],
 "metadata": {
  "kernelspec": {
   "display_name": "Python 3 (ipykernel)",
   "language": "python",
   "name": "python3"
  },
  "language_info": {
   "codemirror_mode": {
    "name": "ipython",
    "version": 3
   },
   "file_extension": ".py",
   "mimetype": "text/x-python",
   "name": "python",
   "nbconvert_exporter": "python",
   "pygments_lexer": "ipython3",
   "version": "3.11.3"
  }
 },
 "nbformat": 4,
 "nbformat_minor": 5
}
